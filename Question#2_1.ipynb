{
 "cells": [
  {
   "cell_type": "code",
   "execution_count": 18,
   "metadata": {},
   "outputs": [
    {
     "name": "stdout",
     "output_type": "stream",
     "text": [
      "Enter Math Marks : 40\n",
      "Enter Urdu Marks : 50\n",
      "Enter Sindhi Marks : 35\n",
      "Enter English Marks : 70\n",
      "Enter Science Marks : 89\n",
      "Your obtain Mraks is :284\n",
      "Your grade is C\n"
     ]
    }
   ],
   "source": [
    "math=int(input('Enter Math Marks : '))\n",
    "urdu=int(input('Enter Urdu Marks : '))\n",
    "sindhi=int(input('Enter Sindhi Marks : '))\n",
    "english=int(input('Enter English Marks : '))\n",
    "science=int(input('Enter Science Marks : '))\n",
    "obtain_marks=(math+urdu+sindhi+english+science)\n",
    "total_marks=500\n",
    "if(math>=33 and urdu>=33 and sindhi>=33 and english>=33 and science>=33):\n",
    "    percentage=obtain_marks*100/500\n",
    "    print('Your obtain Mraks is :'+str(obtain_marks))\n",
    "    if(percentage>=80 and percentage<=100):\n",
    "        print('Your grade is A1')\n",
    "    elif(percentage>=70 and percentage<=79):\n",
    "        print('Your grade is A')\n",
    "    elif(percentage>=60 and percentage<=69):\n",
    "        print('Your grade is B')\n",
    "    elif(percentage>=50 and percentage<=59):\n",
    "        print('Your grade is C')\n",
    "    else:\n",
    "        print('You are Fail')\n",
    "else:\n",
    "    print('You are Fail')"
   ]
  },
  {
   "cell_type": "code",
   "execution_count": null,
   "metadata": {},
   "outputs": [],
   "source": []
  },
  {
   "cell_type": "code",
   "execution_count": null,
   "metadata": {},
   "outputs": [],
   "source": []
  },
  {
   "cell_type": "code",
   "execution_count": null,
   "metadata": {},
   "outputs": [],
   "source": []
  }
 ],
 "metadata": {
  "kernelspec": {
   "display_name": "Python 3",
   "language": "python",
   "name": "python3"
  },
  "language_info": {
   "codemirror_mode": {
    "name": "ipython",
    "version": 3
   },
   "file_extension": ".py",
   "mimetype": "text/x-python",
   "name": "python",
   "nbconvert_exporter": "python",
   "pygments_lexer": "ipython3",
   "version": "3.7.3"
  }
 },
 "nbformat": 4,
 "nbformat_minor": 2
}
